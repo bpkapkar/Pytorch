{
  "nbformat": 4,
  "nbformat_minor": 0,
  "metadata": {
    "accelerator": "GPU",
    "colab": {
      "name": "PyTorch Playground.ipynb",
      "version": "0.3.2",
      "provenance": [],
      "collapsed_sections": []
    },
    "kernelspec": {
      "display_name": "Python 3",
      "language": "python",
      "name": "python3"
    },
    "language_info": {
      "codemirror_mode": {
        "name": "ipython",
        "version": 3
      },
      "file_extension": ".py",
      "mimetype": "text/x-python",
      "name": "python",
      "nbconvert_exporter": "python",
      "pygments_lexer": "ipython3",
      "version": "3.6.8"
    }
  },
  "cells": [
    {
      "cell_type": "markdown",
      "metadata": {
        "colab_type": "text",
        "id": "gXmCHcwKs6rd"
      },
      "source": [
        "# PyTorch playground"
      ]
    },
    {
      "cell_type": "code",
      "metadata": {
        "colab_type": "code",
        "id": "PzCCniVwNTdp",
        "colab": {}
      },
      "source": [
        "# Setting seeds to try and ensure we have the same results - this is not guaranteed across PyTorch releases.\n",
        "import torch\n",
        "torch.manual_seed(0)\n",
        "torch.backends.cudnn.deterministic = True\n",
        "torch.backends.cudnn.benchmark = False\n",
        "\n",
        "import numpy as np\n",
        "np.random.seed(0)"
      ],
      "execution_count": 0,
      "outputs": []
    },
    {
      "cell_type": "code",
      "metadata": {
        "colab_type": "code",
        "id": "fQLW-HL7_0pT",
        "outputId": "a2347d9a-bd38-4fa5-b11a-6c2ae5767134",
        "colab": {
          "base_uri": "https://localhost:8080/",
          "height": 34
        }
      },
      "source": [
        "device = torch.device(\"cuda\" if torch.cuda.is_available() else \"cpu\")\n",
        "print(device)\n"
      ],
      "execution_count": 2,
      "outputs": [
        {
          "output_type": "stream",
          "text": [
            "cuda\n"
          ],
          "name": "stdout"
        }
      ]
    },
    {
      "cell_type": "code",
      "metadata": {
        "colab_type": "code",
        "id": "PCJzXv0OK1Bs",
        "colab": {}
      },
      "source": [
        "from torchvision import datasets, transforms\n",
        "import torch.nn.functional as F\n",
        "from torch import nn\n",
        "\n",
        "mean, std = (0.5,), (0.5,)\n",
        "\n",
        "# Create a transform and normalise data\n",
        "transform = transforms.Compose([transforms.ToTensor(),\n",
        "                                transforms.Normalize(mean, std)\n",
        "                              ])\n",
        "\n",
        "# Download FMNIST training dataset and load training data\n",
        "trainset = datasets.FashionMNIST('~/.pytorch/FMNIST/', download=True, train=True, transform=transform)\n",
        "trainloader = torch.utils.data.DataLoader(trainset, batch_size=64, shuffle=True)\n",
        "\n",
        "# Download FMNIST test dataset and load test data\n",
        "testset = datasets.FashionMNIST('~/.pytorch/FMNIST/', download=True, train=False, transform=transform)\n",
        "testloader = torch.utils.data.DataLoader(testset, batch_size=64, shuffle=False)"
      ],
      "execution_count": 0,
      "outputs": []
    },
    {
      "cell_type": "code",
      "metadata": {
        "colab_type": "code",
        "id": "rqMqFbIVrbFH",
        "colab": {}
      },
      "source": [
        "class FMNIST(nn.Module):\n",
        "  def __init__(self):\n",
        "    super().__init__()\n",
        "    self.fc1 = nn.Linear(784, 128)\n",
        "    self.fc2 = nn.Linear(128,64)\n",
        "    self.fc3 = nn.Linear(64,10)\n",
        "    \n",
        "  def forward(self, x):\n",
        "    x = x.view(x.shape[0], -1)\n",
        "    \n",
        "    x = F.relu(self.fc1(x))\n",
        "    x = F.relu(self.fc2(x))\n",
        "    x = self.fc3(x)\n",
        "    x = F.log_softmax(x, dim=1)\n",
        "    \n",
        "    return x\n",
        "\n",
        "model = FMNIST()"
      ],
      "execution_count": 0,
      "outputs": []
    },
    {
      "cell_type": "code",
      "metadata": {
        "colab_type": "code",
        "id": "67eZUNEM5b7n",
        "outputId": "65d086ff-3a03-4cee-addd-315c55d7b626",
        "colab": {
          "base_uri": "https://localhost:8080/",
          "height": 102
        }
      },
      "source": [
        "model.to(device)"
      ],
      "execution_count": 5,
      "outputs": [
        {
          "output_type": "execute_result",
          "data": {
            "text/plain": [
              "FMNIST(\n",
              "  (fc1): Linear(in_features=784, out_features=128, bias=True)\n",
              "  (fc2): Linear(in_features=128, out_features=64, bias=True)\n",
              "  (fc3): Linear(in_features=64, out_features=10, bias=True)\n",
              ")"
            ]
          },
          "metadata": {
            "tags": []
          },
          "execution_count": 5
        }
      ]
    },
    {
      "cell_type": "markdown",
      "metadata": {
        "colab_type": "text",
        "id": "XPdDu7KfWEfW"
      },
      "source": [
        "- The only change we have made to the code is that we are going to track the training loss, the testing loss and the accuracy across the 30 epochs.\n",
        "- We'll print out the train loss, the test loss and the accuracy after each epoch.\n",
        "- Because we are running this over 30 epochs this will take a bit longer to run - approx 15 minutes."
      ]
    },
    {
      "cell_type": "code",
      "metadata": {
        "colab_type": "code",
        "id": "VJLzWi0UqGWm",
        "outputId": "77ce05a3-3f82-4cef-cefc-8a43c4ddbafb",
        "colab": {
          "base_uri": "https://localhost:8080/",
          "height": 578
        }
      },
      "source": [
        "from torch import optim\n",
        "criterion = nn.NLLLoss()\n",
        "optimizer = optim.SGD(model.parameters(), lr=0.01)\n",
        "\n",
        "num_epochs = 30\n",
        "train_tracker, test_tracker, accuracy_tracker = [], [], []\n",
        "\n",
        "\n",
        "for i in range(num_epochs):\n",
        "    cum_loss = 0\n",
        "    \n",
        "    for batch, (images, labels) in enumerate(trainloader,1):\n",
        "        images = images.to(device)\n",
        "        labels = labels.to(device)\n",
        "        \n",
        "        optimizer.zero_grad()\n",
        "        output = model(images)\n",
        "        loss = criterion(output, labels)\n",
        "        loss.backward()\n",
        "        optimizer.step()\n",
        "        \n",
        "        cum_loss += loss.item()\n",
        "    \n",
        "    train_tracker.append(cum_loss/len(trainloader))\n",
        "    print(f\"Epoch({i+1}/{num_epochs}) | Training loss: {cum_loss/len(trainloader)} | \",end='')\n",
        "    \n",
        "    test_loss = 0\n",
        "    num_correct = 0\n",
        "    total = 0\n",
        "    \n",
        "    for batch, (images, labels) in enumerate(testloader,1):\n",
        "        images = images.to(device)\n",
        "        labels = labels.to(device)\n",
        "        \n",
        "        logps = model(images)\n",
        "        batch_loss = criterion(logps, labels)        \n",
        "        test_loss += batch_loss.item()\n",
        "        \n",
        "        output = torch.exp(logps)\n",
        "        pred = torch.argmax(output, 1)\n",
        "        total += labels.size(0)\n",
        "        num_correct += (pred == labels).sum().item()\n",
        "    \n",
        "    test_tracker.append(test_loss/len(testloader))\n",
        "    print(f\"Test loss: {test_loss/len(testloader)} | \", end='')\n",
        "    accuracy_tracker.append(num_correct/total)\n",
        "    print(f'Accuracy : {num_correct/total}')        \n",
        "print(f'\\nNumber correct : {num_correct}, Total : {total}')\n",
        "print(f'Accuracy of the model after 30 epochs on the 10000 test images: {num_correct * 100 / total}% ')\n",
        "    \n",
        "    "
      ],
      "execution_count": 6,
      "outputs": [
        {
          "output_type": "stream",
          "text": [
            "Epoch(1/30) | Training loss: 1.0330898230835828 | Test loss: 0.6479068924287322 | Accuracy : 0.7614\n",
            "Epoch(2/30) | Training loss: 0.5597374950771901 | Test loss: 0.5414081445545148 | Accuracy : 0.8039\n",
            "Epoch(3/30) | Training loss: 0.4903963123049055 | Test loss: 0.4971817100693466 | Accuracy : 0.8194\n",
            "Epoch(4/30) | Training loss: 0.4554869087615501 | Test loss: 0.47312212540845205 | Accuracy : 0.8298\n",
            "Epoch(5/30) | Training loss: 0.4310528090450047 | Test loss: 0.45723548284761467 | Accuracy : 0.835\n",
            "Epoch(6/30) | Training loss: 0.4134255885315348 | Test loss: 0.44864174571766213 | Accuracy : 0.8359\n",
            "Epoch(7/30) | Training loss: 0.399817388893953 | Test loss: 0.4298076530930343 | Accuracy : 0.8478\n",
            "Epoch(8/30) | Training loss: 0.388061835392833 | Test loss: 0.4293592136566806 | Accuracy : 0.8439\n",
            "Epoch(9/30) | Training loss: 0.3774932924427712 | Test loss: 0.41148661741405534 | Accuracy : 0.8523\n",
            "Epoch(10/30) | Training loss: 0.36851061820221354 | Test loss: 0.4274013562566915 | Accuracy : 0.8427\n",
            "Epoch(11/30) | Training loss: 0.360288798094177 | Test loss: 0.4050957746566481 | Accuracy : 0.8553\n",
            "Epoch(12/30) | Training loss: 0.3528367919581277 | Test loss: 0.442640547444866 | Accuracy : 0.842\n",
            "Epoch(13/30) | Training loss: 0.34551923679136265 | Test loss: 0.3942889951786418 | Accuracy : 0.8599\n",
            "Epoch(14/30) | Training loss: 0.3393631616968717 | Test loss: 0.385670344730851 | Accuracy : 0.8614\n",
            "Epoch(15/30) | Training loss: 0.3335536307871723 | Test loss: 0.3839634743275916 | Accuracy : 0.8618\n",
            "Epoch(16/30) | Training loss: 0.32737260671662116 | Test loss: 0.37746300372728114 | Accuracy : 0.867\n",
            "Epoch(17/30) | Training loss: 0.32203575862305506 | Test loss: 0.3799787531043314 | Accuracy : 0.8627\n",
            "Epoch(18/30) | Training loss: 0.3169646824934462 | Test loss: 0.38316315251171207 | Accuracy : 0.8628\n",
            "Epoch(19/30) | Training loss: 0.31197599076957844 | Test loss: 0.3653619491560444 | Accuracy : 0.8674\n",
            "Epoch(20/30) | Training loss: 0.3071116164866795 | Test loss: 0.3709522712572365 | Accuracy : 0.8697\n",
            "Epoch(21/30) | Training loss: 0.3017437636280365 | Test loss: 0.36106638838151456 | Accuracy : 0.8728\n",
            "Epoch(22/30) | Training loss: 0.2983515392075469 | Test loss: 0.36962069514071105 | Accuracy : 0.8668\n",
            "Epoch(23/30) | Training loss: 0.2934731903678573 | Test loss: 0.357472366493219 | Accuracy : 0.8702\n",
            "Epoch(24/30) | Training loss: 0.28921857981412397 | Test loss: 0.3545182277062896 | Accuracy : 0.8733\n",
            "Epoch(25/30) | Training loss: 0.2855971241270555 | Test loss: 0.3524002528684154 | Accuracy : 0.8745\n",
            "Epoch(26/30) | Training loss: 0.2807486147673399 | Test loss: 0.3812956469264 | Accuracy : 0.8648\n",
            "Epoch(27/30) | Training loss: 0.2763775169356927 | Test loss: 0.35617227785906214 | Accuracy : 0.8739\n",
            "Epoch(28/30) | Training loss: 0.2735283151745542 | Test loss: 0.3554404157741814 | Accuracy : 0.8743\n",
            "Epoch(29/30) | Training loss: 0.270145039449432 | Test loss: 0.35572395990988254 | Accuracy : 0.8723\n",
            "Epoch(30/30) | Training loss: 0.266094913233572 | Test loss: 0.35367005076378016 | Accuracy : 0.8778\n",
            "\n",
            "Number correct : 8778, Total : 10000\n",
            "Accuracy of the model after 30 epochs on the 10000 test images: 87.78% \n"
          ],
          "name": "stdout"
        }
      ]
    },
    {
      "cell_type": "markdown",
      "metadata": {
        "colab_type": "text",
        "id": "IqNpkYO6V9YI"
      },
      "source": [
        "- Has the accuracy of the model increased?\n",
        "- Now plot the training loss vs the test loss over 30 epochs."
      ]
    },
    {
      "cell_type": "code",
      "metadata": {
        "colab_type": "code",
        "id": "89a8FdTi-cNM",
        "outputId": "82701451-7413-4c00-d4e7-24f0e375a4c2",
        "colab": {
          "base_uri": "https://localhost:8080/",
          "height": 286
        }
      },
      "source": [
        "import matplotlib.pyplot as plt\n",
        "%matplotlib inline\n",
        "plt.plot(train_tracker, label='Training loss')\n",
        "plt.plot(test_tracker, label='Test loss')\n",
        "plt.legend()"
      ],
      "execution_count": 7,
      "outputs": [
        {
          "output_type": "execute_result",
          "data": {
            "text/plain": [
              "<matplotlib.legend.Legend at 0x7f00c8cb33c8>"
            ]
          },
          "metadata": {
            "tags": []
          },
          "execution_count": 7
        },
        {
          "output_type": "display_data",
          "data": {
            "image/png": "[encoded data removed]",
            "text/plain": [
              "<Figure size 432x288 with 1 Axes>"
            ]
          },
          "metadata": {
            "tags": []
          }
        }
      ]
    },
    {
      "cell_type": "markdown",
      "metadata": {
        "id": "DHtKTHKKjG3r",
        "colab_type": "text"
      },
      "source": [
        "- Now add the accuracy to the mix."
      ]
    },
    {
      "cell_type": "code",
      "metadata": {
        "colab_type": "code",
        "id": "AJgyMHm2Pvx5",
        "outputId": "881d9ce0-19cd-4991-86a1-2d014ee00735",
        "colab": {
          "base_uri": "https://localhost:8080/",
          "height": 286
        }
      },
      "source": [
        "import matplotlib.pyplot as plt\n",
        "%matplotlib inline\n",
        "plt.plot(train_tracker, label='Training loss')\n",
        "plt.plot(test_tracker, label='Test loss')\n",
        "plt.plot(accuracy_tracker, label='Test accuracy')\n",
        "plt.legend()"
      ],
      "execution_count": 8,
      "outputs": [
        {
          "output_type": "execute_result",
          "data": {
            "text/plain": [
              "<matplotlib.legend.Legend at 0x7f00c8da8f98>"
            ]
          },
          "metadata": {
            "tags": []
          },
          "execution_count": 8
        },
        {
          "output_type": "display_data",
          "data": {
            "image/png": "[encoded data removed]",
            "text/plain": [
              "<Figure size 432x288 with 1 Axes>"
            ]
          },
          "metadata": {
            "tags": []
          }
        }
      ]
    },
    {
      "cell_type": "markdown",
      "metadata": {
        "id": "APhVglVTk-og",
        "colab_type": "text"
      },
      "source": [
        "## Further challenges and experiments\n",
        "- Can you get better accuracy from a model if you :\n",
        "    - Add more layers?\n",
        "    - Change the number of nodes in the layers?\n",
        "    - Train over fewer/higher epochs?\n",
        "    \n",
        "- Can you improve on your results if you add additional layers like [Dropout](https://pytorch.org/docs/master/nn.html#torch.nn.Dropout)"
      ]
    },
    {
      "cell_type": "code",
      "metadata": {
        "id": "Ex8FzAY7jG3v",
        "colab_type": "code",
        "colab": {}
      },
      "source": [
        ""
      ],
      "execution_count": 0,
      "outputs": []
    },
    {
      "cell_type": "code",
      "metadata": {
        "id": "6ImOG4oXjG3x",
        "colab_type": "code",
        "colab": {}
      },
      "source": [
        ""
      ],
      "execution_count": 0,
      "outputs": []
    },
    {
      "cell_type": "code",
      "metadata": {
        "id": "CwHV3ig7jG3y",
        "colab_type": "code",
        "colab": {}
      },
      "source": [
        ""
      ],
      "execution_count": 0,
      "outputs": []
    },
    {
      "cell_type": "code",
      "metadata": {
        "id": "fg3aU2vJjG30",
        "colab_type": "code",
        "colab": {}
      },
      "source": [
        ""
      ],
      "execution_count": 0,
      "outputs": []
    },
    {
      "cell_type": "code",
      "metadata": {
        "id": "9UfGdMuCjG32",
        "colab_type": "code",
        "colab": {}
      },
      "source": [
        ""
      ],
      "execution_count": 0,
      "outputs": []
    },
    {
      "cell_type": "code",
      "metadata": {
        "id": "xxOzS2-TjG34",
        "colab_type": "code",
        "colab": {}
      },
      "source": [
        ""
      ],
      "execution_count": 0,
      "outputs": []
    },
    {
      "cell_type": "code",
      "metadata": {
        "id": "3kdUCpCyjG35",
        "colab_type": "code",
        "colab": {}
      },
      "source": [
        ""
      ],
      "execution_count": 0,
      "outputs": []
    },
    {
      "cell_type": "code",
      "metadata": {
        "id": "RMhC9JJujG37",
        "colab_type": "code",
        "colab": {}
      },
      "source": [
        ""
      ],
      "execution_count": 0,
      "outputs": []
    }
  ]
}